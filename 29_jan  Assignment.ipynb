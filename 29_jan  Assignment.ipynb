{
 "cells": [
  {
   "cell_type": "code",
   "execution_count": 6,
   "id": "e771f723-c7a6-491f-8d94-73c6af1b4e59",
   "metadata": {},
   "outputs": [],
   "source": [
    "Q1\n",
    "\n",
    "Ans: The python was developed by \"Guido Van Rossum\" \n",
    "    in  year 1970 in \"Centrum Wiskunde Informatica \" located in Netherlandas "
   ]
  },
  {
   "cell_type": "code",
   "execution_count": 7,
   "id": "62ee22c8-e4d7-4336-a235-4550687de5b7",
   "metadata": {},
   "outputs": [],
   "source": [
    "Q2.\n",
    "\n",
    "Ans: Python is a multi-paradigm programming language.\n",
    "    The \"Object Oriented programming\" and \"Structured Programming\" are fully supported by python"
   ]
  },
  {
   "cell_type": "code",
   "execution_count": 9,
   "id": "de583e6b-55bc-4993-a53e-10e8346ebbf3",
   "metadata": {},
   "outputs": [],
   "source": [
    "Q3.\n",
    "\n",
    "Ans: Yes,Python is a case-sensitive language.\n",
    "       It treats uppercase and lowercase character differently.This is also applied to identifiers too"
   ]
  },
  {
   "cell_type": "code",
   "execution_count": 10,
   "id": "8bfdf7c7-0059-4c2d-99cb-9bcfae80ce68",
   "metadata": {},
   "outputs": [],
   "source": [
    "Q4.\n",
    "\n",
    "Ans:According to programmers \"Visual Studio IntelliCode\"is the best python extionsion ."
   ]
  },
  {
   "cell_type": "code",
   "execution_count": 11,
   "id": "fc281afd-8257-457a-be9a-790fa21d2990",
   "metadata": {},
   "outputs": [],
   "source": [
    "Q5.\n",
    "\n",
    "Ans:Python is interpreted language,which means the source code in python is coverted into bytecode "
   ]
  },
  {
   "cell_type": "code",
   "execution_count": 12,
   "id": "e43f4fa8-d351-4205-9ae5-cd1356f286ba",
   "metadata": {},
   "outputs": [],
   "source": [
    "Q6.\n",
    "\n",
    "Ans:Following are the names of the blocks a.)a Module , b.) a function body , c.)a class definition and the blocks of a Module is used to define in python. "
   ]
  },
  {
   "cell_type": "code",
   "execution_count": null,
   "id": "4fb5b20a-ec25-4a45-b26a-b72715808404",
   "metadata": {},
   "outputs": [],
   "source": [
    "Q7.\n",
    "\n",
    "Ans: The following \"##\" symboles are used to give single-line comments in python."
   ]
  },
  {
   "cell_type": "code",
   "execution_count": null,
   "id": "26e4fdde-51d3-4aaf-b23c-ad7572afff72",
   "metadata": {},
   "outputs": [],
   "source": [
    "Q8.\n",
    "\n",
    "Ans:The function \"sys.version\" can help us to find which version of python we are currently using"
   ]
  },
  {
   "cell_type": "code",
   "execution_count": null,
   "id": "ac44ab95-974e-4ab2-ae92-f45cf5130630",
   "metadata": {},
   "outputs": [],
   "source": [
    "Q9.\n",
    "\n",
    "Ans:Python supports the crestion of anonymous function at runtime,using construct  called \"lambda\""
   ]
  },
  {
   "cell_type": "code",
   "execution_count": null,
   "id": "db6c7511-da79-45c3-ba43-b8b0457328f2",
   "metadata": {},
   "outputs": [],
   "source": [
    "Q10.\n",
    "\n",
    "Ans:PIP is a package manager for python.which is called \"Prefered Installer P program\"\n",
    "    "
   ]
  },
  {
   "cell_type": "code",
   "execution_count": null,
   "id": "1d6e769f-e557-4cb4-8568-1251ac53b086",
   "metadata": {},
   "outputs": [],
   "source": [
    "Q11.\n",
    "\n",
    "Ans:the following print(),type(),input(),pow(),max() are the few built-in functions in python language"
   ]
  },
  {
   "cell_type": "code",
   "execution_count": null,
   "id": "c84ac60c-70e5-4fca-a22a-adbbf4870148",
   "metadata": {},
   "outputs": [],
   "source": [
    "Q12.\n",
    "\n",
    "Ans: 79 charecter is the max length of an identifier in python"
   ]
  },
  {
   "cell_type": "code",
   "execution_count": null,
   "id": "03ef9e92-8c1c-4b33-bce1-15222fe2df59",
   "metadata": {},
   "outputs": [],
   "source": [
    "Q13.\n",
    "\n",
    "Ans: The following are the main uses of python a.)used for developing websites and software, b.)used in task automation,c.)used in the field of data science,d.)and also used in data visualization\n",
    "      Due to the following uses we can say that there are many benefits of using the python.  "
   ]
  },
  {
   "cell_type": "code",
   "execution_count": null,
   "id": "fac292a5-c36e-42b9-90eb-60ae359d8b1e",
   "metadata": {},
   "outputs": [],
   "source": [
    "Q14.\n",
    "\n",
    "Ans: memory managment in python involves a private heap containing all python objects and data structures."
   ]
  },
  {
   "cell_type": "code",
   "execution_count": null,
   "id": "2c188abd-83c3-4272-9fc1-f237c52f4d57",
   "metadata": {},
   "outputs": [],
   "source": [
    "Q15.\n",
    "\n",
    "Ans:1.)Right-clicking This PC and going to properties\n",
    "   2.)Clicking on the Advanced systems settings in the menu on the left\n",
    "   3.)Clicking on the environments variables buttom on the bottom right.\n",
    "   4.)In the system variables section,selecting the path variables and clicking on Edits.The currently a parts of PATH variables.\n",
    "   5.)Clicking on NEW and entering PYTHON's install directory "
   ]
  },
  {
   "cell_type": "code",
   "execution_count": null,
   "id": "8a07cf28-f54f-49c6-8473-6c3128f3d678",
   "metadata": {},
   "outputs": [],
   "source": [
    "Q16.\n",
    "\n",
    "Ans:Indetation refers to the spaces at the begnning of the code line.Where in other programming languages the indentation in code is for readabilityonly, the indentation in PYTHON is very important"
   ]
  },
  {
   "cell_type": "code",
   "execution_count": null,
   "id": "9c65abf6-9a2a-4366-ae88-a1b38ed65f88",
   "metadata": {},
   "outputs": [],
   "source": []
  },
  {
   "cell_type": "code",
   "execution_count": null,
   "id": "28e823b6-a5a4-4ca0-bd74-94f2734513aa",
   "metadata": {},
   "outputs": [],
   "source": []
  },
  {
   "cell_type": "code",
   "execution_count": null,
   "id": "4bbb2bfb-afc4-4d91-bfb1-65bb1456726d",
   "metadata": {},
   "outputs": [],
   "source": []
  }
 ],
 "metadata": {
  "kernelspec": {
   "display_name": "Python 3 (ipykernel)",
   "language": "python",
   "name": "python3"
  },
  "language_info": {
   "codemirror_mode": {
    "name": "ipython",
    "version": 3
   },
   "file_extension": ".py",
   "mimetype": "text/x-python",
   "name": "python",
   "nbconvert_exporter": "python",
   "pygments_lexer": "ipython3",
   "version": "3.10.8"
  }
 },
 "nbformat": 4,
 "nbformat_minor": 5
}
